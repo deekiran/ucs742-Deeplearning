{
  "cells": [
    {
      "metadata": {
        "_cell_guid": "9fc9c389-734f-4f89-b447-d4644aef5e3a",
        "_uuid": "7e27e4d59a07e58470442a3b5037467be94b54d8"
      },
      "cell_type": "markdown",
      "source": "*This notebook comes from [A Whirlwind Tour of Python](http://www.oreilly.com/programming/free/a-whirlwind-tour-of-python.csp) by Jake VanderPlas (OReilly Media, 2016). This content is licensed [CC0](https://github.com/jakevdp/WhirlwindTourOfPython/blob/master/LICENSE). The full notebook listing is available at https://github.com/jakevdp/WhirlwindTourOfPython.*"
    },
    {
      "metadata": {
        "_cell_guid": "ee128c1a-3e04-4029-b75c-81414f3b2411",
        "_uuid": "548696bc2b35980d59447492991f766c5c6dbb73"
      },
      "cell_type": "markdown",
      "source": "<!--NAVIGATION-->\n< [1. Introduction](https://www.kaggle.com/sohier/whirlwind-tour-of-python-00-introduction/) | [Contents](https://www.kaggle.com/sohier/whirlwind-tour-of-python-index) | [A Quick Tour of Python Language Syntax](https://www.kaggle.com/sohier/wtop-02-syntax/) >"
    },
    {
      "metadata": {
        "_cell_guid": "99001eca-7b0c-4c88-ac3d-490b047b1bfe",
        "_uuid": "193856427f94bfab649b48c9e3bdbe38ad5b2cec"
      },
      "cell_type": "markdown",
      "source": "# How to Run Python Code"
    },
    {
      "metadata": {
        "_cell_guid": "1fea9fea-cc06-4f90-b052-f54680f2873b",
        "_uuid": "94843d89849288a5a3d2e2e3e5bb437374af6b72"
      },
      "cell_type": "markdown",
      "source": "Python is a flexible language, and there are several ways to use it depending on your particular task.\nOne thing that distinguishes Python from other programming languages is that it is *interpreted* rather than *compiled*.\nThis means that it is executed line by line, which allows programming to be interactive in a way that is not directly possible with compiled languages like Fortran, C, or Java. This section will describe four primary ways you can run Python code: the *Python interpreter*, the *IPython interpreter*, via *Self-contained Scripts*, or in the *Jupyter notebook*.\n\n*[Kaggle specific note: Kaggle supports the last two of these options; scripts and notebooks.]* "
    },
    {
      "metadata": {
        "_cell_guid": "77c7c647-f140-4bc8-8793-edaf2814955e",
        "_uuid": "c362d6cfa0fdc61746ae3559f69dc8fdb1d501ee"
      },
      "cell_type": "markdown",
      "source": "### The Python Interpreter\n\nThe most basic way to execute Python code is line by line within the *Python interpreter*.\nThe Python interpreter can be started by installing the Python language (see the previous section) and typing ``python`` at the command prompt (look for the Terminal on Mac OS X and Unix/Linux systems, or the Command Prompt application in Windows):\n```\n$ python\nPython 3.5.1 |Continuum Analytics, Inc.| (default, Dec  7 2015, 11:24:55)\nType \"help\", \"copyright\", \"credits\" or \"license\" for more information.\n>>>\n```\nWith the interpreter running, you can begin to type and execute code snippets.\nHere we'll use the interpreter as a simple calculator, performing calculations and assigning values to variables:\n``` python\n>>> 1 + 1\n2\n>>> x = 5\n>>> x * 3\n15\n```\n\nThe interpreter makes it very convenient to try out small snippets of Python code and to experiment with short sequences of operations."
    },
    {
      "metadata": {
        "_cell_guid": "ea078b58-024e-4b90-b242-251bb8d97b7e",
        "_uuid": "723df8a9a3a69491e3fbb35e791c86aeedd3595c"
      },
      "cell_type": "markdown",
      "source": "### The IPython interpreter\n\nIf you spend much time with the basic Python interpreter, you'll find that it lacks many of the features of a full-fledged interactive development environment.\nAn alternative interpreter called *IPython* (for Interactive Python) is bundled with the Anaconda distribution, and includes a host of convenient enhancements to the basic Python interpreter.\nIt can be started by typing ``ipython`` at the command prompt:\n```\n$ ipython\nPython 3.5.1 |Continuum Analytics, Inc.| (default, Dec  7 2015, 11:24:55) \nType \"copyright\", \"credits\" or \"license\" for more information.\n\nIPython 4.0.0 -- An enhanced Interactive Python.\n?         -> Introduction and overview of IPython's features.\n%quickref -> Quick reference.\nhelp      -> Python's own help system.\nobject?   -> Details about 'object', use 'object??' for extra details.\n\nIn [1]: \n```\nThe main aesthetic difference between the Python interpreter and the enhanced IPython interpreter lies in the command prompt: Python uses ``>>>`` by default, while IPython uses numbered commands (e.g. ``In [1]:``).\nRegardless, we can execute code line by line just as we did before:\n``` ipython\nIn [1]: 1 + 1\nOut[1]: 2\n\nIn [2]: x = 5\n\nIn [3]: x * 3\nOut[3]: 15\n```\nNote that just as the input is numbered, the output of each command is numbered as well.\nIPython makes available a wide array of useful features; for some suggestions on where to read more, see [Resources for Further Learning](16-Further-Resources.ipynb)."
    },
    {
      "metadata": {
        "_cell_guid": "fb2d563c-62cb-4b44-bbe1-04253af65aab",
        "_uuid": "aabdae68f294ea4338d08c5a31e8ada79e4c6ac9"
      },
      "cell_type": "markdown",
      "source": "### Self-contained Python scripts\n\nRunning Python snippets line by line is useful in some cases, but for more complicated programs it is more convenient to save code to file, and execute it all at once.\nBy convention, Python scripts are saved in files with a *.py* extension.\nFor example, let's create a script called *test.py* which contains the following:\n``` python\n# file: test.py\nprint(\"Running test.py\")\nx = 5\nprint(\"Result is\", 3 * x)\n```\nTo run this file, we make sure it is in the current directory and type ``python`` *``filename``* at the command prompt:\n```\n$ python test.py\nRunning test.py\nResult is 15\n```\nFor more complicated programs, creating self-contained scripts like this one is a must."
    },
    {
      "metadata": {
        "_cell_guid": "cd0fbb1d-5dfd-42aa-9611-e01816c021d2",
        "_uuid": "fa1c3daf08dd755705ffad9ffa3beadda0d4be94"
      },
      "cell_type": "markdown",
      "source": "### The Jupyter notebook\n\nA useful hybrid of the interactive terminal and the self-contained script is the *Jupyter notebook*, a document format that allows executable code, formatted text, graphics, and even interactive features to be combined into a single document.\nThough the notebook began as a Python-only format, it has since been made compatible with a large number of programming languages, and is now an essential part of the [*Jupyter Project*](https://jupyter.org/).\nThe notebook is useful both as a development environment, and as a means of sharing work via rich computational and data-driven narratives that mix together code, figures, data, and text.\n\n\n*[Kaggle kernels are broadly similar to Jupyter notebooks. We've ported this tutorial into kernels so that you can jump in and run or tinker with any of the code that you see. To do so, you'll first need to click the 'Fork Notebook' button in the upper right corner of the screen to create your own copy. You can then run any block of code, or cell, by clicking on it and then hitting shift + enter. Note that cells can be run in any order, but be prepared ]*  "
    },
    {
      "metadata": {
        "_cell_guid": "3eaf2af2-7e13-49af-8ed8-1f2845057d40",
        "_uuid": "1ee676292aae3aee6151e55abe1aa668c7edded9"
      },
      "cell_type": "markdown",
      "source": "<!--NAVIGATION-->\n< [1. Introduction](https://www.kaggle.com/sohier/whirlwind-tour-of-python-00-introduction/) | [Contents](https://www.kaggle.com/sohier/whirlwind-tour-of-python-index) | [A Quick Tour of Python Language Syntax](https://www.kaggle.com/sohier/wtop-02-syntax/) >"
    },
    {
      "metadata": {
        "_cell_guid": "96cd6f43-6d33-4427-8225-4bfc9bf19791",
        "_uuid": "b16efc9391099d5c220f021b49aea3ee018981b6",
        "trusted": true
      },
      "cell_type": "code",
      "source": "",
      "execution_count": null,
      "outputs": []
    }
  ],
  "metadata": {
    "language_info": {
      "name": "python",
      "version": "3.6.6",
      "mimetype": "text/x-python",
      "codemirror_mode": {
        "name": "ipython",
        "version": 3
      },
      "pygments_lexer": "ipython3",
      "nbconvert_exporter": "python",
      "file_extension": ".py"
    },
    "kernelspec": {
      "display_name": "Python 3",
      "language": "python",
      "name": "python3"
    }
  },
  "nbformat": 4,
  "nbformat_minor": 1
}